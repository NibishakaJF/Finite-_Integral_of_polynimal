{
 "cells": [
  {
   "cell_type": "code",
   "execution_count": 1,
   "id": "0e125db4",
   "metadata": {},
   "outputs": [
    {
     "name": "stdout",
     "output_type": "stream",
     "text": [
      "Enter the polynomial: 3*x**2 + 2*x + 1\n",
      "Enter the lower limit of integration: 2\n",
      "Enter the upper limit of integration: 3\n",
      "The definite integral of 3*x**2 + 2*x + 1 from 2.0 to 3.0 is 25.0000000000000.\n"
     ]
    }
   ],
   "source": [
    "# Import the necessary module\n",
    "from sympy import symbols, integrate\n",
    "\n",
    "# Define the function to compute the definite integral of a polynomial\n",
    "def integrate_polynomial(polynomial, lower_limit, upper_limit):\n",
    "    x = symbols('x')\n",
    "    integral = integrate(polynomial, (x, lower_limit, upper_limit))\n",
    "    return integral\n",
    "\n",
    "# Ask the user to enter the polynomial and the limits of integration\n",
    "polynomial = input(\"Enter the polynomial: \")\n",
    "lower_limit = float(input(\"Enter the lower limit of integration: \"))\n",
    "upper_limit = float(input(\"Enter the upper limit of integration: \"))\n",
    "\n",
    "# Compute the definite integral of the polynomial\n",
    "result = integrate_polynomial(polynomial, lower_limit, upper_limit)\n",
    "\n",
    "# Print the result\n",
    "print(f\"The definite integral of {polynomial} from {lower_limit} to {upper_limit} is {result}.\")\n"
   ]
  },
  {
   "cell_type": "markdown",
   "id": "a391378d",
   "metadata": {},
   "source": [
    "To use this code, simply run the cell in your Jupyter Notebook and follow the prompts to enter the polynomial and the limits of integration. The code will then compute the definite integral of the polynomial and print the result. Note that the polynomial should be entered in the standard Python syntax for mathematical expressions, using x as the variable. For example, to compute the definite integral of the polynomial $3x^2 + 2x + 1$ from $0$ to $1$, you would enter 3*x**2 + 2*x + 1 as the polynomial."
   ]
  },
  {
   "cell_type": "code",
   "execution_count": null,
   "id": "e128382b",
   "metadata": {},
   "outputs": [],
   "source": []
  }
 ],
 "metadata": {
  "kernelspec": {
   "display_name": "Python 3 (ipykernel)",
   "language": "python",
   "name": "python3"
  },
  "language_info": {
   "codemirror_mode": {
    "name": "ipython",
    "version": 3
   },
   "file_extension": ".py",
   "mimetype": "text/x-python",
   "name": "python",
   "nbconvert_exporter": "python",
   "pygments_lexer": "ipython3",
   "version": "3.9.12"
  }
 },
 "nbformat": 4,
 "nbformat_minor": 5
}
